{
 "cells": [
  {
   "cell_type": "code",
   "execution_count": 2,
   "id": "1ab0d1e2",
   "metadata": {},
   "outputs": [],
   "source": [
    "from tqdm import tqdm"
   ]
  },
  {
   "cell_type": "markdown",
   "id": "828d0add",
   "metadata": {},
   "source": [
    "https://github.com/aparrish/gutenberg-poetry-corpus/blob/master/quick-experiments.ipynb"
   ]
  },
  {
   "cell_type": "code",
   "execution_count": 3,
   "id": "0b6f2500",
   "metadata": {},
   "outputs": [
    {
     "name": "stderr",
     "output_type": "stream",
     "text": [
      "3085117it [00:22, 138809.88it/s]\n"
     ]
    }
   ],
   "source": [
    "import gzip, json\n",
    "all_lines = []\n",
    "for line in tqdm(gzip.open(\"/Users/jbt694/Downloads/gutenberg-poetry-v001.ndjson.gz\")):\n",
    "    all_lines.append(json.loads(line.strip()))\n"
   ]
  },
  {
   "cell_type": "code",
   "execution_count": 4,
   "id": "1157250e",
   "metadata": {},
   "outputs": [
    {
     "data": {
      "text/plain": [
       "3085117"
      ]
     },
     "execution_count": 4,
     "metadata": {},
     "output_type": "execute_result"
    }
   ],
   "source": [
    "len(all_lines)"
   ]
  },
  {
   "cell_type": "code",
   "execution_count": null,
   "id": "0d226c4a",
   "metadata": {},
   "outputs": [],
   "source": []
  }
 ],
 "metadata": {
  "kernelspec": {
   "display_name": "Python [conda env:superpytorch]",
   "language": "python",
   "name": "conda-env-superpytorch-py"
  },
  "language_info": {
   "codemirror_mode": {
    "name": "ipython",
    "version": 3
   },
   "file_extension": ".py",
   "mimetype": "text/x-python",
   "name": "python",
   "nbconvert_exporter": "python",
   "pygments_lexer": "ipython3",
   "version": "3.8.3"
  }
 },
 "nbformat": 4,
 "nbformat_minor": 5
}
