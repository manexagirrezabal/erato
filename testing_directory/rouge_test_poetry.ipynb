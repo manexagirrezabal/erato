{
 "cells": [
  {
   "cell_type": "markdown",
   "id": "c258411c",
   "metadata": {},
   "source": [
    "In this notebook I will test the rouge metric for evaluating poetry\n",
    "\n",
    "file:///Users/jbt694/Downloads/multilingual-extension-and-evaluation-of-a-poetry-generator-.pdf\n",
    "\n",
    "https://kavita-ganesan.com/rouge-howto/\n",
    "\n",
    "https://en.wikipedia.org/wiki/ROUGE_(metric)"
   ]
  },
  {
   "cell_type": "code",
   "execution_count": 1,
   "id": "339337c9",
   "metadata": {},
   "outputs": [],
   "source": [
    "from rouge_metric import PyRouge\n",
    "\n",
    "import pandas as pd\n",
    "import numpy as np"
   ]
  },
  {
   "cell_type": "code",
   "execution_count": 2,
   "id": "95889db0",
   "metadata": {},
   "outputs": [
    {
     "data": {
      "text/plain": [
       "{'rouge-1': {'r': 0.75, 'p': 0.75, 'f': 0.75},\n",
       " 'rouge-2': {'r': 0.3333333333333333,\n",
       "  'p': 0.3333333333333333,\n",
       "  'f': 0.3333333333333333},\n",
       " 'rouge-3': {'r': 0.0, 'p': 0.0, 'f': 0.0},\n",
       " 'rouge-4': {'r': 0.0, 'p': 0.0, 'f': 0.0},\n",
       " 'rouge-l': {'r': 0.75, 'p': 0.75, 'f': 0.75},\n",
       " 'rouge-su4': {'r': 0.5555555555555556,\n",
       "  'p': 0.5555555555555556,\n",
       "  'f': 0.5555555555555556}}"
      ]
     },
     "execution_count": 2,
     "metadata": {},
     "output_type": "execute_result"
    }
   ],
   "source": [
    "hypotheses = [\"A big green desk\"]\n",
    "#hypotheses = [\"I was having a beer\"]\n",
    "\n",
    "\n",
    "references = [\"A big red desk\"]\n",
    "\n",
    "# Evaluate document-wise ROUGE scores\n",
    "rouge = PyRouge(rouge_n=(1, 2, 3, 4),\n",
    "                rouge_l=True,\n",
    "                rouge_w=False,\n",
    "                #rouge_w_weight=1.2,\n",
    "                rouge_s=False,\n",
    "                rouge_su=True,\n",
    "                 skip_gap=4\n",
    "               )\n",
    "scores = rouge.evaluate(hypotheses, [references])\n",
    "scores"
   ]
  },
  {
   "cell_type": "code",
   "execution_count": 3,
   "id": "878230c4",
   "metadata": {},
   "outputs": [],
   "source": [
    "rouge = PyRouge(rouge_n=(1, 2, 3, 4),\n",
    "                rouge_l=True,\n",
    "                rouge_w=False,\n",
    "                rouge_s=False,\n",
    "                rouge_su=True,\n",
    "                 skip_gap=4\n",
    "               )\n"
   ]
  },
  {
   "cell_type": "markdown",
   "id": "16724639",
   "metadata": {},
   "source": [
    "### Compare poem1 with poem2 line by line"
   ]
  },
  {
   "cell_type": "code",
   "execution_count": 4,
   "id": "1bc93650",
   "metadata": {},
   "outputs": [
    {
     "ename": "FileNotFoundError",
     "evalue": "[Errno 2] No such file or directory: 'data/poem1.txt'",
     "output_type": "error",
     "traceback": [
      "\u001b[0;31m---------------------------------------------------------------------------\u001b[0m",
      "\u001b[0;31mFileNotFoundError\u001b[0m                         Traceback (most recent call last)",
      "\u001b[0;32m<ipython-input-4-13625341d9bd>\u001b[0m in \u001b[0;36m<module>\u001b[0;34m\u001b[0m\n\u001b[0;32m----> 1\u001b[0;31m \u001b[0mf\u001b[0m\u001b[0;34m=\u001b[0m\u001b[0mopen\u001b[0m\u001b[0;34m(\u001b[0m\u001b[0;34m\"data/poem1.txt\"\u001b[0m\u001b[0;34m)\u001b[0m\u001b[0;34m\u001b[0m\u001b[0;34m\u001b[0m\u001b[0m\n\u001b[0m\u001b[1;32m      2\u001b[0m \u001b[0mlines1\u001b[0m \u001b[0;34m=\u001b[0m \u001b[0;34m[\u001b[0m\u001b[0mline\u001b[0m\u001b[0;34m.\u001b[0m\u001b[0mstrip\u001b[0m\u001b[0;34m(\u001b[0m\u001b[0;34m)\u001b[0m \u001b[0;32mfor\u001b[0m \u001b[0mline\u001b[0m \u001b[0;32min\u001b[0m \u001b[0mf\u001b[0m \u001b[0;32mif\u001b[0m \u001b[0mlen\u001b[0m\u001b[0;34m(\u001b[0m\u001b[0mline\u001b[0m\u001b[0;34m.\u001b[0m\u001b[0mstrip\u001b[0m\u001b[0;34m(\u001b[0m\u001b[0;34m)\u001b[0m\u001b[0;34m)\u001b[0m\u001b[0;34m>\u001b[0m\u001b[0;36m0\u001b[0m\u001b[0;34m]\u001b[0m\u001b[0;34m\u001b[0m\u001b[0;34m\u001b[0m\u001b[0m\n\u001b[1;32m      3\u001b[0m \u001b[0mf\u001b[0m\u001b[0;34m.\u001b[0m\u001b[0mclose\u001b[0m\u001b[0;34m(\u001b[0m\u001b[0;34m)\u001b[0m\u001b[0;34m\u001b[0m\u001b[0;34m\u001b[0m\u001b[0m\n\u001b[1;32m      4\u001b[0m \u001b[0;34m\u001b[0m\u001b[0m\n\u001b[1;32m      5\u001b[0m \u001b[0mf\u001b[0m\u001b[0;34m=\u001b[0m\u001b[0mopen\u001b[0m\u001b[0;34m(\u001b[0m\u001b[0;34m\"data/poem2.txt\"\u001b[0m\u001b[0;34m)\u001b[0m\u001b[0;34m\u001b[0m\u001b[0;34m\u001b[0m\u001b[0m\n",
      "\u001b[0;31mFileNotFoundError\u001b[0m: [Errno 2] No such file or directory: 'data/poem1.txt'"
     ]
    }
   ],
   "source": [
    "f=open(\"data/poem1.txt\")\n",
    "lines1 = [line.strip() for line in f if len(line.strip())>0]\n",
    "f.close()\n",
    "\n",
    "f=open(\"data/poem2.txt\")\n",
    "lines2 = [line.strip() for line in f if len(line.strip())>0]\n",
    "f.close()\n",
    "\n",
    "\n",
    "results = []\n",
    "for indline, (line1,line2) in enumerate(zip(lines1,lines2)):\n",
    "    scores = rouge.evaluate([line1], [[line2]])\n",
    "    results.append(scores)\n",
    "    "
   ]
  },
  {
   "cell_type": "code",
   "execution_count": null,
   "id": "d2a1df27",
   "metadata": {},
   "outputs": [],
   "source": [
    "accumulated_results=pd.DataFrame(results[0])\n",
    "for results_line in results[1:]:\n",
    "    accumulated_results += pd.DataFrame(results_line)"
   ]
  },
  {
   "cell_type": "code",
   "execution_count": null,
   "id": "b9f26e06",
   "metadata": {},
   "outputs": [],
   "source": [
    "accumulated_results\n",
    "\n",
    "#This is so impressive. There is no overlap at all between these two poems."
   ]
  },
  {
   "cell_type": "markdown",
   "id": "221d9dba",
   "metadata": {},
   "source": [
    "Let's now make a test evaluating a poem that has been created based on another one."
   ]
  },
  {
   "cell_type": "code",
   "execution_count": null,
   "id": "1f2587cf",
   "metadata": {},
   "outputs": [],
   "source": [
    "#poem2-slightlyplagiarized.txt\n",
    "\n",
    "f=open(\"data/poem2.txt\")\n",
    "lines1 = [line.strip() for line in f if len(line.strip())>0]\n",
    "f.close()\n",
    "\n",
    "f=open(\"data/poem2-slightlyplagiarized.txt\")\n",
    "lines2 = [line.strip() for line in f if len(line.strip())>0]\n",
    "f.close()\n",
    "\n",
    "results = []\n",
    "for indline, (line1,line2) in enumerate(zip(lines1,lines2)):\n",
    "    scores = rouge.evaluate([line1], [[line2]])\n",
    "    results.append(scores)\n",
    "\n",
    "accumulated_results=pd.DataFrame(results[0])\n",
    "for results_line in results[1:]:\n",
    "    accumulated_results += pd.DataFrame(results_line)\n",
    "    \n",
    "accumulated_results"
   ]
  },
  {
   "cell_type": "markdown",
   "id": "544f5a01",
   "metadata": {},
   "source": [
    "We have to normalize the results with the number of lines"
   ]
  },
  {
   "cell_type": "code",
   "execution_count": null,
   "id": "bf8bf4e2",
   "metadata": {
    "scrolled": true
   },
   "outputs": [],
   "source": [
    "accumulated_results/len(results)"
   ]
  },
  {
   "cell_type": "markdown",
   "id": "9fb226c1",
   "metadata": {},
   "source": [
    "Yes... we can see that there is a bit of plagiarization."
   ]
  },
  {
   "cell_type": "markdown",
   "id": "beb18e87",
   "metadata": {},
   "source": [
    "### Compare poem1 and poem2\n",
    "#### line1 with line1,2,3,4...\n",
    "#### line2 with line1,2,3,4..."
   ]
  },
  {
   "cell_type": "code",
   "execution_count": null,
   "id": "9d2cfc37",
   "metadata": {
    "scrolled": true
   },
   "outputs": [],
   "source": [
    "#poem2-slightlyplagiarized.txt\n",
    "\n",
    "f=open(\"data/poem2.txt\")\n",
    "lines1 = [line.strip() for line in f if len(line.strip())>0]\n",
    "f.close()\n",
    "\n",
    "f=open(\"data/poem2-slightlyplagiarized.txt\")\n",
    "lines2 = [line.strip() for line in f if len(line.strip())>0]\n",
    "f.close()\n",
    "\n",
    "results = []\n",
    "for indline1, line1 in enumerate(lines1):\n",
    "    for indline2,line2 in enumerate(lines2):\n",
    "        scores = rouge.evaluate([line1], [[line2]])\n",
    "        results.append(scores)\n",
    "\n",
    "accumulated_results=pd.DataFrame(results[0])\n",
    "for results_line in results[1:]:\n",
    "    accumulated_results += pd.DataFrame(results_line)\n",
    "    \n",
    "accumulated_results/len(results)"
   ]
  },
  {
   "cell_type": "markdown",
   "id": "e78b74d1",
   "metadata": {},
   "source": [
    "### Compare poem1 and poem2 without considering the lines\n",
    "\n",
    "#### I will concatenate all the lines together with \" \""
   ]
  },
  {
   "cell_type": "code",
   "execution_count": null,
   "id": "d203f1c4",
   "metadata": {},
   "outputs": [],
   "source": [
    "#poem2-slightlyplagiarized.txt\n",
    "\n",
    "f=open(\"data/poem2.txt\")\n",
    "poem1 = \" \".join([line.strip() for line in f if len(line.strip())>0])\n",
    "f.close()\n",
    "\n",
    "f=open(\"data/poem2-slightlyplagiarized.txt\")\n",
    "poem2 = \" \".join([line.strip() for line in f if len(line.strip())>0])\n",
    "f.close()\n",
    "\n",
    "scores = rouge.evaluate([poem1], [[poem2]])\n",
    "\n",
    "pd.DataFrame(scores)\n"
   ]
  },
  {
   "cell_type": "markdown",
   "id": "c4eeaa3f",
   "metadata": {},
   "source": [
    "### Check one poem for its intra novelty\n",
    "\n",
    "Now let's check the intra novelty."
   ]
  },
  {
   "cell_type": "code",
   "execution_count": null,
   "id": "d7a7ab91",
   "metadata": {},
   "outputs": [],
   "source": [
    "f=open(\"data/poem2.txt\")\n",
    "lines = [line.strip() for line in f if len(line.strip())>0]\n",
    "f.close()\n",
    "\n",
    "results = []\n",
    "for indline1, line1 in enumerate(lines):\n",
    "    for indline2, line2 in enumerate(lines):\n",
    "        if indline1 != indline2:\n",
    "            scores = rouge.evaluate([line1], [[line2]])\n",
    "            results.append(((indline1,indline2),scores))"
   ]
  },
  {
   "cell_type": "code",
   "execution_count": null,
   "id": "96bf85d5",
   "metadata": {},
   "outputs": [],
   "source": [
    "results"
   ]
  },
  {
   "cell_type": "code",
   "execution_count": null,
   "id": "6d844961",
   "metadata": {},
   "outputs": [],
   "source": [
    "accumulated_results=pd.DataFrame(results[0][1])\n",
    "for results_line in results[1:]:\n",
    "    accumulated_results += pd.DataFrame(results_line[1])\n",
    "    \n",
    "accumulated_results"
   ]
  },
  {
   "cell_type": "code",
   "execution_count": null,
   "id": "79003fcb",
   "metadata": {},
   "outputs": [],
   "source": [
    "accumulated_results/len(results)"
   ]
  },
  {
   "cell_type": "code",
   "execution_count": null,
   "id": "c197eb84",
   "metadata": {},
   "outputs": [],
   "source": [
    "!cat ../data/poem2.txt"
   ]
  },
  {
   "cell_type": "code",
   "execution_count": 9,
   "id": "c3d30254",
   "metadata": {},
   "outputs": [
    {
     "name": "stdout",
     "output_type": "stream",
     "text": [
      "bertsoa1.txt bertsoa2.txt bertsoa3.txt bertsoa4.txt bertsoa5.txt bertsoa6.txt\r\n"
     ]
    }
   ],
   "source": [
    "!ls ../data/eus_poems"
   ]
  },
  {
   "cell_type": "code",
   "execution_count": 11,
   "id": "df91c647",
   "metadata": {},
   "outputs": [],
   "source": [
    "import glob"
   ]
  },
  {
   "cell_type": "code",
   "execution_count": 13,
   "id": "55db3f9b",
   "metadata": {},
   "outputs": [
    {
     "data": {
      "text/html": [
       "<div>\n",
       "<style scoped>\n",
       "    .dataframe tbody tr th:only-of-type {\n",
       "        vertical-align: middle;\n",
       "    }\n",
       "\n",
       "    .dataframe tbody tr th {\n",
       "        vertical-align: top;\n",
       "    }\n",
       "\n",
       "    .dataframe thead th {\n",
       "        text-align: right;\n",
       "    }\n",
       "</style>\n",
       "<table border=\"1\" class=\"dataframe\">\n",
       "  <thead>\n",
       "    <tr style=\"text-align: right;\">\n",
       "      <th></th>\n",
       "      <th>rouge-1</th>\n",
       "      <th>rouge-2</th>\n",
       "      <th>rouge-3</th>\n",
       "      <th>rouge-4</th>\n",
       "      <th>rouge-l</th>\n",
       "      <th>rouge-su4</th>\n",
       "    </tr>\n",
       "  </thead>\n",
       "  <tbody>\n",
       "    <tr>\n",
       "      <th>r</th>\n",
       "      <td>0.010111</td>\n",
       "      <td>0.002222</td>\n",
       "      <td>0.0</td>\n",
       "      <td>0.0</td>\n",
       "      <td>0.010111</td>\n",
       "      <td>0.002963</td>\n",
       "    </tr>\n",
       "    <tr>\n",
       "      <th>p</th>\n",
       "      <td>0.010111</td>\n",
       "      <td>0.002222</td>\n",
       "      <td>0.0</td>\n",
       "      <td>0.0</td>\n",
       "      <td>0.010111</td>\n",
       "      <td>0.002963</td>\n",
       "    </tr>\n",
       "    <tr>\n",
       "      <th>f</th>\n",
       "      <td>0.010000</td>\n",
       "      <td>0.002222</td>\n",
       "      <td>0.0</td>\n",
       "      <td>0.0</td>\n",
       "      <td>0.010000</td>\n",
       "      <td>0.002963</td>\n",
       "    </tr>\n",
       "  </tbody>\n",
       "</table>\n",
       "</div>"
      ],
      "text/plain": [
       "    rouge-1   rouge-2  rouge-3  rouge-4   rouge-l  rouge-su4\n",
       "r  0.010111  0.002222      0.0      0.0  0.010111   0.002963\n",
       "p  0.010111  0.002222      0.0      0.0  0.010111   0.002963\n",
       "f  0.010000  0.002222      0.0      0.0  0.010000   0.002963"
      ]
     },
     "execution_count": 13,
     "metadata": {},
     "output_type": "execute_result"
    }
   ],
   "source": [
    "final_result=[]\n",
    "poemlist=list(glob.glob(\"../data/eus_poems/*.txt\"))\n",
    "for filename1 in poemlist:\n",
    "    for filename2 in poemlist:\n",
    "        if filename1!=filename2:\n",
    "            f=open(filename1)\n",
    "            lines1 = [line.strip() for line in f if len(line.strip())>0]\n",
    "            f.close()\n",
    "\n",
    "            f=open(filename2)\n",
    "            lines2 = [line.strip() for line in f if len(line.strip())>0]\n",
    "            f.close()\n",
    "\n",
    "\n",
    "            results = []\n",
    "            for indline, (line1,line2) in enumerate(zip(lines1,lines2)):\n",
    "                scores = rouge.evaluate([line1], [[line2]])\n",
    "                results.append(scores)\n",
    "\n",
    "            accumulated_results=pd.DataFrame(results[0])\n",
    "            for results_line in results[1:]:\n",
    "                accumulated_results += pd.DataFrame(results_line)\n",
    "\n",
    "            final_result.append(accumulated_results/len(lines1))\n",
    "            \n",
    "            \n",
    "accumulated_final_result=pd.DataFrame(final_result[0])\n",
    "for results_line in final_result[1:]:\n",
    "    accumulated_final_result += pd.DataFrame(results_line)\n",
    "accumulated_final_result/((len(poemlist)-1) * (len(poemlist)))"
   ]
  },
  {
   "cell_type": "code",
   "execution_count": null,
   "id": "84828abd",
   "metadata": {},
   "outputs": [],
   "source": []
  }
 ],
 "metadata": {
  "kernelspec": {
   "display_name": "Python 3",
   "language": "python",
   "name": "python3"
  },
  "language_info": {
   "codemirror_mode": {
    "name": "ipython",
    "version": 3
   },
   "file_extension": ".py",
   "mimetype": "text/x-python",
   "name": "python",
   "nbconvert_exporter": "python",
   "pygments_lexer": "ipython3",
   "version": "3.8.8"
  }
 },
 "nbformat": 4,
 "nbformat_minor": 5
}
